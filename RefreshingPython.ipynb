{
 "cells": [
  {
   "cell_type": "code",
   "execution_count": 1,
   "id": "ce6cc1d5",
   "metadata": {},
   "outputs": [
    {
     "name": "stdout",
     "output_type": "stream",
     "text": [
      "Hello world!\n"
     ]
    }
   ],
   "source": [
    "print(\"Hello world!\")"
   ]
  },
  {
   "cell_type": "code",
   "execution_count": 2,
   "id": "c0dd9a29",
   "metadata": {},
   "outputs": [],
   "source": [
    "def add_sum(a,b): \n",
    "    # A function to add numbers\n",
    "    return a+b"
   ]
  },
  {
   "cell_type": "code",
   "execution_count": 3,
   "id": "3f2fedeb",
   "metadata": {},
   "outputs": [],
   "source": [
    "def greet(name):\n",
    "    # A function to greet someone\n",
    "    return 'Hello' + name\n"
   ]
  },
  {
   "cell_type": "code",
   "execution_count": 4,
   "id": "f4460ad2",
   "metadata": {},
   "outputs": [
    {
     "name": "stdout",
     "output_type": "stream",
     "text": [
      "Hello World!\n"
     ]
    }
   ],
   "source": [
    "print(\"Hello World!\")"
   ]
  },
  {
   "cell_type": "code",
   "execution_count": 5,
   "id": "fc8a65cc",
   "metadata": {},
   "outputs": [
    {
     "name": "stdout",
     "output_type": "stream",
     "text": [
      "Learning Python is fun\n"
     ]
    }
   ],
   "source": [
    "print(\"Learning Python is fun\")"
   ]
  },
  {
   "cell_type": "code",
   "execution_count": 6,
   "id": "aa41abf3",
   "metadata": {},
   "outputs": [
    {
     "name": "stdout",
     "output_type": "stream",
     "text": [
      "Learning Python is fun\n"
     ]
    }
   ],
   "source": [
    "print('Learning Python is fun')"
   ]
  },
  {
   "cell_type": "code",
   "execution_count": 7,
   "id": "3fc84d78",
   "metadata": {},
   "outputs": [
    {
     "name": "stdout",
     "output_type": "stream",
     "text": [
      "Learning Python is fun\n"
     ]
    }
   ],
   "source": [
    "print(\"\"\"Learning Python is fun\"\"\")"
   ]
  },
  {
   "cell_type": "code",
   "execution_count": 8,
   "id": "1cc22279",
   "metadata": {},
   "outputs": [
    {
     "name": "stdout",
     "output_type": "stream",
     "text": [
      "Hello 'World'\n"
     ]
    }
   ],
   "source": [
    "print(\"Hello 'World'\")"
   ]
  },
  {
   "cell_type": "code",
   "execution_count": 9,
   "id": "b54290c5",
   "metadata": {},
   "outputs": [
    {
     "name": "stdout",
     "output_type": "stream",
     "text": [
      "Hello \"World\"\n"
     ]
    }
   ],
   "source": [
    "print('Hello \"World\"')"
   ]
  },
  {
   "cell_type": "code",
   "execution_count": 10,
   "id": "12e2acce",
   "metadata": {},
   "outputs": [
    {
     "name": "stdout",
     "output_type": "stream",
     "text": [
      "What's new in Python3.8?\n"
     ]
    }
   ],
   "source": [
    "sentence = \"What\\'s new in Python3.8?\"\n",
    "print(sentence) "
   ]
  },
  {
   "cell_type": "code",
   "execution_count": 11,
   "id": "7510fac6",
   "metadata": {},
   "outputs": [
    {
     "name": "stdout",
     "output_type": "stream",
     "text": [
      "Python\tC++\n"
     ]
    }
   ],
   "source": [
    "value = \"Python\\tC++\"\n",
    "print(value)"
   ]
  },
  {
   "cell_type": "code",
   "execution_count": 12,
   "id": "619467f1",
   "metadata": {},
   "outputs": [
    {
     "name": "stdout",
     "output_type": "stream",
     "text": [
      "There are many programmimg languages. \n",
      "Python is considered to be the most flexible programming language.\n"
     ]
    }
   ],
   "source": [
    "sentence = \"There are many programmimg languages. \\nPython is considered to be the most flexible programming language.\"\n",
    "\n",
    "print(sentence)"
   ]
  },
  {
   "cell_type": "code",
   "execution_count": 13,
   "id": "6cea1c96-919d-402a-9a31-329e877647b7",
   "metadata": {},
   "outputs": [
    {
     "name": "stdout",
     "output_type": "stream",
     "text": [
      "C++ is a beautiful language\n"
     ]
    }
   ],
   "source": [
    "language = \"C++\"\n",
    "sentence = \" is a beautiful language\"\n",
    "output = language + sentence\n",
    "print(output)"
   ]
  },
  {
   "cell_type": "code",
   "execution_count": 14,
   "id": "1a1bf99a-24cf-423b-a6e2-c74da1b66fcd",
   "metadata": {},
   "outputs": [],
   "source": [
    "def is_even(number):\n",
    "    if number %2 == 0:\n",
    "        print({} is even.format(number))\n",
    "    else:\n",
    "        print({} is odd.format(number))"
   ]
  },
  {
   "cell_type": "code",
   "execution_count": 15,
   "id": "0bac1421-5583-4b18-a106-de34add25c5c",
   "metadata": {},
   "outputs": [
    {
     "name": "stdout",
     "output_type": "stream",
     "text": [
      "Daniel Bundor\n",
      "31\n"
     ]
    }
   ],
   "source": [
    "first_name = \"Daniel\"\n",
    "last_name = \" Bundor\"\n",
    "full_name = first_name + last_name\n",
    "age = 31\n",
    "\n",
    "print(full_name)\n",
    "print(age)"
   ]
  },
  {
   "cell_type": "code",
   "execution_count": 16,
   "id": "59d3a81a-62b7-4515-8c12-8a5fc7d20359",
   "metadata": {},
   "outputs": [
    {
     "name": "stdout",
     "output_type": "stream",
     "text": [
      "Hello, my name is Daniel Bundor. \n",
      "I am currently refreshing my Python knowledge after a long while.\n"
     ]
    }
   ],
   "source": [
    "intro = \"Hello, my name is Daniel Bundor. \\nI am currently refreshing my Python knowledge after a long while.\"\n",
    "print(intro)"
   ]
  },
  {
   "cell_type": "code",
   "execution_count": 17,
   "id": "1934538e-938a-4593-ac5a-1d36a47c1a6e",
   "metadata": {},
   "outputs": [
    {
     "name": "stdout",
     "output_type": "stream",
     "text": [
      "purple\n"
     ]
    }
   ],
   "source": [
    "a = 'purple'\n",
    "b = 'red'\n",
    "c = 'blue'\n",
    "d = 'yellow'\n",
    "print(a)"
   ]
  },
  {
   "cell_type": "code",
   "execution_count": 18,
   "id": "de6a8a6b-bb4d-4f7d-bff3-b5ad0729b92d",
   "metadata": {},
   "outputs": [
    {
     "name": "stdout",
     "output_type": "stream",
     "text": [
      "100\n",
      "100\n",
      "100\n"
     ]
    }
   ],
   "source": [
    "a1=b1=c1=100\n",
    "print(a1)\n",
    "print(b1)\n",
    "print(c1)"
   ]
  },
  {
   "cell_type": "code",
   "execution_count": 19,
   "id": "80a36b7c",
   "metadata": {},
   "outputs": [
    {
     "name": "stdout",
     "output_type": "stream",
     "text": [
      "140562066036176 140562066036176 140562066036176\n"
     ]
    }
   ],
   "source": [
    "print(id(a1), id(b1), id(c1))"
   ]
  },
  {
   "cell_type": "code",
   "execution_count": 20,
   "id": "b881865c",
   "metadata": {},
   "outputs": [
    {
     "name": "stdout",
     "output_type": "stream",
     "text": [
      "140562065844880 140562066036176 140562066036176\n"
     ]
    }
   ],
   "source": [
    "a1 = 12\n",
    "print(id(a1), id(b1), id(c1))"
   ]
  },
  {
   "cell_type": "code",
   "execution_count": 21,
   "id": "3faf2941",
   "metadata": {},
   "outputs": [
    {
     "name": "stdout",
     "output_type": "stream",
     "text": [
      "<class 'int'>\n"
     ]
    }
   ],
   "source": [
    "a = 10\n",
    "print(type(a))"
   ]
  },
  {
   "cell_type": "code",
   "execution_count": 22,
   "id": "db2c7f69",
   "metadata": {},
   "outputs": [
    {
     "name": "stdout",
     "output_type": "stream",
     "text": [
      "<class 'str'>\n"
     ]
    }
   ],
   "source": [
    "a = 'Python'\n",
    "print(type(a))"
   ]
  },
  {
   "cell_type": "code",
   "execution_count": 23,
   "id": "8f0964fc",
   "metadata": {},
   "outputs": [
    {
     "name": "stdout",
     "output_type": "stream",
     "text": [
      "<class 'int'>\n"
     ]
    }
   ],
   "source": [
    "a = 128\n",
    "print(type(a))"
   ]
  },
  {
   "cell_type": "code",
   "execution_count": 24,
   "id": "d8ad7c47",
   "metadata": {},
   "outputs": [
    {
     "name": "stdout",
     "output_type": "stream",
     "text": [
      "<class 'float'>\n"
     ]
    }
   ],
   "source": [
    "a = 128.0\n",
    "print(type(a))"
   ]
  },
  {
   "cell_type": "markdown",
   "id": "f40c7466",
   "metadata": {},
   "source": [
    "language = 'Python'\n",
    "print(type(language))"
   ]
  },
  {
   "cell_type": "code",
   "execution_count": 25,
   "id": "c09b7073",
   "metadata": {},
   "outputs": [
    {
     "name": "stdout",
     "output_type": "stream",
     "text": [
      "<class 'str'>\n"
     ]
    }
   ],
   "source": [
    "language = \"python\"\n",
    "print(type(language))"
   ]
  },
  {
   "cell_type": "code",
   "execution_count": 26,
   "id": "d5e4ffcb",
   "metadata": {},
   "outputs": [
    {
     "name": "stdout",
     "output_type": "stream",
     "text": [
      "<class 'complex'>\n"
     ]
    }
   ],
   "source": [
    "complex_number = complex(12,5)\n",
    "print(type(complex_number))"
   ]
  },
  {
   "cell_type": "code",
   "execution_count": 27,
   "id": "b2fbcbe4",
   "metadata": {},
   "outputs": [
    {
     "name": "stdout",
     "output_type": "stream",
     "text": [
      "Real number is 12.0\n",
      "Imaginary number is 5.0\n"
     ]
    }
   ],
   "source": [
    "complex_number = complex(12,5)\n",
    "a = complex_number.real\n",
    "b = complex_number.imag\n",
    "print('Real number is {}'.format(a))\n",
    "print('Imaginary number is {}'.format(b))"
   ]
  },
  {
   "cell_type": "code",
   "execution_count": 28,
   "id": "34b7a8f5",
   "metadata": {},
   "outputs": [],
   "source": [
    "x_mean = 12\n",
    "del x_mean"
   ]
  },
  {
   "cell_type": "code",
   "execution_count": 29,
   "id": "ebda7670",
   "metadata": {},
   "outputs": [
    {
     "name": "stdout",
     "output_type": "stream",
     "text": [
      "Our library has 100\n",
      "our library has lent 50\n",
      "Our library has 50 books avilable to be read\n"
     ]
    }
   ],
   "source": [
    "number_of_books = 100\n",
    "books_lent = 50\n",
    "remaining_books = number_of_books - books_lent\n",
    "\n",
    "\n",
    "print('Our library has {}'.format(number_of_books))\n",
    "print('our library has lent {}'.format(books_lent))\n",
    "print('Our library has {} books avilable to be read'.format(remaining_books))"
   ]
  },
  {
   "cell_type": "code",
   "execution_count": 30,
   "id": "35445586",
   "metadata": {},
   "outputs": [
    {
     "name": "stdout",
     "output_type": "stream",
     "text": [
      "1\n"
     ]
    }
   ],
   "source": [
    "number = 0\n",
    "number = number + 1\n",
    "print(number)"
   ]
  },
  {
   "cell_type": "code",
   "execution_count": 31,
   "id": "d64164fb",
   "metadata": {},
   "outputs": [
    {
     "name": "stdout",
     "output_type": "stream",
     "text": [
      "-1\n"
     ]
    }
   ],
   "source": [
    "number = 0\n",
    "number = number - 1\n",
    "print(number)"
   ]
  },
  {
   "cell_type": "code",
   "execution_count": 32,
   "id": "1cd6fea5",
   "metadata": {},
   "outputs": [
    {
     "name": "stdout",
     "output_type": "stream",
     "text": [
      "60\n"
     ]
    }
   ],
   "source": [
    "a = 5\n",
    "b = 12\n",
    "result = a * b\n",
    "print(result)"
   ]
  },
  {
   "cell_type": "code",
   "execution_count": 33,
   "id": "553b1f7f",
   "metadata": {},
   "outputs": [
    {
     "name": "stdout",
     "output_type": "stream",
     "text": [
      "4.0\n"
     ]
    }
   ],
   "source": [
    "a = 24\n",
    "b = 6\n",
    "result = a / b\n",
    "print(result)"
   ]
  },
  {
   "cell_type": "code",
   "execution_count": 34,
   "id": "e1630f0f",
   "metadata": {},
   "outputs": [
    {
     "name": "stdout",
     "output_type": "stream",
     "text": [
      "4\n"
     ]
    }
   ],
   "source": [
    "a = 24\n",
    "b = 6\n",
    "result = a // b\n",
    "print(result)"
   ]
  },
  {
   "cell_type": "code",
   "execution_count": 35,
   "id": "ab9e23e4",
   "metadata": {},
   "outputs": [
    {
     "name": "stdout",
     "output_type": "stream",
     "text": [
      "1\n"
     ]
    }
   ],
   "source": [
    "a = 25\n",
    "b = 2\n",
    "result = a % b\n",
    "print(result)\n"
   ]
  },
  {
   "cell_type": "code",
   "execution_count": 36,
   "id": "b430508d",
   "metadata": {},
   "outputs": [
    {
     "name": "stdout",
     "output_type": "stream",
     "text": [
      "125\n"
     ]
    }
   ],
   "source": [
    "a = 5\n",
    "b = 3\n",
    "result = a**b\n",
    "print(result)"
   ]
  },
  {
   "cell_type": "code",
   "execution_count": 37,
   "id": "3e32c6f2",
   "metadata": {},
   "outputs": [
    {
     "name": "stdout",
     "output_type": "stream",
     "text": [
      "True\n"
     ]
    }
   ],
   "source": [
    "language1 = 'Python'\n",
    "language2 = 'Python'\n",
    "isSame = language1 == language2\n",
    "print(isSame)"
   ]
  },
  {
   "cell_type": "code",
   "execution_count": 38,
   "id": "85c4559b",
   "metadata": {},
   "outputs": [
    {
     "name": "stdout",
     "output_type": "stream",
     "text": [
      "False\n",
      "True\n"
     ]
    }
   ],
   "source": [
    "a = 12\n",
    "b = 14\n",
    "isGreater = a > b\n",
    "print(isGreater)\n",
    "\n",
    "a = 15\n",
    "b = 14\n",
    "isGreater = a > b\n",
    "print(isGreater)"
   ]
  },
  {
   "cell_type": "code",
   "execution_count": 39,
   "id": "389da125",
   "metadata": {},
   "outputs": [
    {
     "name": "stdout",
     "output_type": "stream",
     "text": [
      "True\n"
     ]
    }
   ],
   "source": [
    "a = 12\n",
    "b = 14\n",
    "isSmaller = a < b\n",
    "print(isSmaller)"
   ]
  },
  {
   "cell_type": "code",
   "execution_count": 40,
   "id": "2d4ccabe",
   "metadata": {},
   "outputs": [
    {
     "name": "stdout",
     "output_type": "stream",
     "text": [
      "2\n"
     ]
    }
   ],
   "source": [
    "a = 5\n",
    "b = 3\n",
    "print(a%b)"
   ]
  },
  {
   "cell_type": "code",
   "execution_count": 41,
   "id": "227c1d89",
   "metadata": {},
   "outputs": [
    {
     "name": "stdout",
     "output_type": "stream",
     "text": [
      "e\n",
      "e\n",
      "e\n",
      "e\n",
      "e\n",
      "e\n",
      "e\n",
      "e\n",
      "e\n",
      "e\n",
      "e\n"
     ]
    }
   ],
   "source": [
    "H = \"Hello World\"\n",
    "for char in H:\n",
    "    print(H[1])"
   ]
  },
  {
   "cell_type": "code",
   "execution_count": 42,
   "id": "e317bbca",
   "metadata": {},
   "outputs": [
    {
     "name": "stdout",
     "output_type": "stream",
     "text": [
      "P\n",
      "y\n",
      "t\n",
      "h\n",
      "o\n",
      "n\n",
      " \n",
      "i\n",
      "s\n",
      " \n",
      "a\n",
      " \n",
      "b\n",
      "e\n",
      "a\n",
      "u\n",
      "t\n",
      "i\n",
      "f\n",
      "u\n",
      "l\n",
      " \n",
      "l\n",
      "a\n",
      "n\n",
      "g\n",
      "u\n",
      "a\n",
      "g\n",
      "e\n"
     ]
    }
   ],
   "source": [
    "W = \"Python is a beautiful language\"\n",
    "for char in W:\n",
    "    print(char)"
   ]
  },
  {
   "cell_type": "code",
   "execution_count": 43,
   "id": "65dc35df",
   "metadata": {},
   "outputs": [
    {
     "name": "stdout",
     "output_type": "stream",
     "text": [
      "python\n",
      "PYTHON\n"
     ]
    }
   ],
   "source": [
    "language = \"PYTHON\"\n",
    "print(language.lower())\n",
    "\n",
    "language = \"python\"\n",
    "print(language.upper())"
   ]
  },
  {
   "cell_type": "code",
   "execution_count": 44,
   "id": "2bb3cb9c",
   "metadata": {},
   "outputs": [
    {
     "name": "stdout",
     "output_type": "stream",
     "text": [
      "True\n"
     ]
    }
   ],
   "source": [
    "txt = \"I want to travel the world\"\n",
    "result = \"world\" in txt\n",
    "print(result)"
   ]
  },
  {
   "cell_type": "code",
   "execution_count": 45,
   "id": "695f9d2c",
   "metadata": {},
   "outputs": [
    {
     "name": "stdout",
     "output_type": "stream",
     "text": [
      " The query word world is present in the sentence.\n"
     ]
    }
   ],
   "source": [
    "txt = \"I want to travel the world\"\n",
    "query_word = \"world\"\n",
    "if query_word in txt:\n",
    "    print(\" The query word {} is present in the sentence.\".format(query_word))"
   ]
  },
  {
   "cell_type": "code",
   "execution_count": 46,
   "id": "5dca090d",
   "metadata": {
    "scrolled": true
   },
   "outputs": [
    {
     "name": "stdout",
     "output_type": "stream",
     "text": [
      " The query word Paris is not present in the sentence.\n"
     ]
    }
   ],
   "source": [
    "txt = \"I want to travel the world\"\n",
    "query_word = \"Paris\"\n",
    "if query_word not in txt:\n",
    "    print(\" The query word {} is not present in the sentence.\".format(query_word))"
   ]
  },
  {
   "cell_type": "code",
   "execution_count": 47,
   "id": "49380b75",
   "metadata": {},
   "outputs": [
    {
     "name": "stdout",
     "output_type": "stream",
     "text": [
      "Apples\n",
      "Pears\n",
      "Melon\n",
      "Grapes\n",
      "Apples\n"
     ]
    }
   ],
   "source": [
    "# Tuples\n",
    "\n",
    "fruits = (\"Apples\", \"Pears\", \"Melon\", \"Grapes\", \"Apples\")\n",
    "print(fruits[0])\n",
    "print(fruits[1])\n",
    "print(fruits[2])\n",
    "print(fruits[3])\n",
    "print(fruits[4])\n"
   ]
  },
  {
   "cell_type": "code",
   "execution_count": 48,
   "id": "24d3e2ce",
   "metadata": {},
   "outputs": [
    {
     "name": "stdout",
     "output_type": "stream",
     "text": [
      "['Python', 'C++', 'Java', 'Ruby', 'Swift']\n"
     ]
    }
   ],
   "source": [
    "# List\n",
    "\n",
    "languages = [\"Python\", \"C++\", \"Java\", \"Ruby\"]\n",
    "languages.append(\"Swift\")\n",
    "print(languages)"
   ]
  },
  {
   "cell_type": "code",
   "execution_count": 49,
   "id": "95f28df4",
   "metadata": {},
   "outputs": [
    {
     "name": "stdout",
     "output_type": "stream",
     "text": [
      "<class 'dict'>\n",
      "dict_keys(['Apples', 'Lemon', 'Pears'])\n",
      "dict_values([2, 1, 2])\n",
      "2\n",
      "3\n",
      "{'Apples': 2, 'Lemon': 1, 'Pears': 3}\n",
      "{'Apples': 2, 'Lemon': 1, 'Pears': 3, 'Mango': 5}\n",
      "4\n"
     ]
    }
   ],
   "source": [
    "# Dictionary\n",
    "\n",
    "fruits ={\"Apples\": 2, \"Lemon\": 1, \"Pears\": 2}\n",
    "print(type(fruits))\n",
    "print(fruits.keys())\n",
    "print(fruits.values())\n",
    "print(fruits[\"Apples\"])\n",
    "\n",
    "fruits[\"Pears\"] = 3\n",
    "print(fruits[\"Pears\"])\n",
    "print(fruits)\n",
    "\n",
    "fruit = {\"Mango\": 5}\n",
    "fruits.update(fruit)\n",
    "print(fruits)\n",
    "print(len(fruits))"
   ]
  },
  {
   "cell_type": "code",
   "execution_count": 50,
   "id": "54d78503",
   "metadata": {},
   "outputs": [
    {
     "name": "stdout",
     "output_type": "stream",
     "text": [
      "<class 'float'>\n"
     ]
    }
   ],
   "source": [
    "print(type(4.567))"
   ]
  },
  {
   "cell_type": "code",
   "execution_count": 51,
   "id": "e2bcae1a",
   "metadata": {},
   "outputs": [
    {
     "name": "stdout",
     "output_type": "stream",
     "text": [
      "<class 'str'>\n"
     ]
    }
   ],
   "source": [
    "print(type('abc'))"
   ]
  },
  {
   "cell_type": "code",
   "execution_count": 52,
   "id": "7276a308",
   "metadata": {},
   "outputs": [
    {
     "name": "stdout",
     "output_type": "stream",
     "text": [
      "<class 'float'>\n"
     ]
    }
   ],
   "source": [
    "print(type(-9.0))"
   ]
  },
  {
   "cell_type": "code",
   "execution_count": 53,
   "id": "68157d59",
   "metadata": {},
   "outputs": [
    {
     "name": "stdout",
     "output_type": "stream",
     "text": [
      "Hi, I'm Daniel. I'm learning Python.\n"
     ]
    }
   ],
   "source": [
    "first_name = \"Daniel\"\n",
    "favorite_language = \"Python\"\n",
    "print(f\"Hi, I'm {first_name}. I'm learning {favorite_language}.\")"
   ]
  },
  {
   "cell_type": "code",
   "execution_count": 54,
   "id": "6c592cbe",
   "metadata": {},
   "outputs": [
    {
     "name": "stdout",
     "output_type": "stream",
     "text": [
      "1\n",
      "2\n",
      "3\n",
      "4\n",
      "5\n",
      "6\n",
      "7\n",
      "8\n",
      "9\n",
      "10\n"
     ]
    }
   ],
   "source": [
    "for x in range(1, 11):\n",
    "    print(x)"
   ]
  },
  {
   "cell_type": "code",
   "execution_count": 55,
   "id": "f4d54017",
   "metadata": {},
   "outputs": [
    {
     "name": "stdout",
     "output_type": "stream",
     "text": [
      "1\n",
      "2\n",
      "3\n",
      "4\n",
      "5\n"
     ]
    }
   ],
   "source": [
    "for x in range(1, 11):\n",
    "    if x > 5:\n",
    "        break\n",
    "    print(x)"
   ]
  },
  {
   "cell_type": "code",
   "execution_count": 56,
   "id": "d0c7f8e7",
   "metadata": {},
   "outputs": [
    {
     "name": "stdout",
     "output_type": "stream",
     "text": [
      "1\n",
      "2\n",
      "3\n",
      "4\n",
      "5\n",
      "6\n",
      "7\n",
      "8\n",
      "9\n",
      "10\n",
      "Loop ends\n"
     ]
    }
   ],
   "source": [
    "for x in range(1,11):\n",
    "    print(x)\n",
    "else:\n",
    "    print('Loop ends')"
   ]
  },
  {
   "cell_type": "code",
   "execution_count": 57,
   "id": "a441b88b",
   "metadata": {},
   "outputs": [
    {
     "name": "stdout",
     "output_type": "stream",
     "text": [
      "red apple\n",
      "red banana\n",
      "red cherry\n",
      "big apple\n",
      "big banana\n",
      "big cherry\n",
      "tasty apple\n",
      "tasty banana\n",
      "tasty cherry\n"
     ]
    }
   ],
   "source": [
    "adj = [\"red\", \"big\", \"tasty\"]\n",
    "fruits = [\"apple\", \"banana\", \"cherry\"]\n",
    "for x in adj:\n",
    "    for y in fruits:\n",
    "        print(x,y)"
   ]
  },
  {
   "cell_type": "code",
   "execution_count": 58,
   "id": "94850d1c",
   "metadata": {},
   "outputs": [
    {
     "name": "stdout",
     "output_type": "stream",
     "text": [
      "10\n",
      "9\n",
      "8\n",
      "7\n",
      "6\n",
      "5\n",
      "4\n",
      "3\n",
      "2\n",
      "1\n"
     ]
    }
   ],
   "source": [
    "x = 10\n",
    "while x > 0:\n",
    "    print(x)\n",
    "    x = x-1"
   ]
  },
  {
   "cell_type": "code",
   "execution_count": 59,
   "id": "c34447d1",
   "metadata": {},
   "outputs": [
    {
     "name": "stdout",
     "output_type": "stream",
     "text": [
      "1\n",
      "2\n",
      "4\n",
      "5\n",
      "6\n"
     ]
    }
   ],
   "source": [
    "i = 0\n",
    "while i < 6:\n",
    "    i += 1\n",
    "    if i == 3:\n",
    "        continue\n",
    "    print(i)"
   ]
  },
  {
   "cell_type": "code",
   "execution_count": 60,
   "id": "7363824f",
   "metadata": {},
   "outputs": [
    {
     "name": "stdout",
     "output_type": "stream",
     "text": [
      "1\n",
      "2\n",
      "3\n",
      "4\n",
      "5\n",
      "i is no longer less than 6\n"
     ]
    }
   ],
   "source": [
    "i = 1\n",
    "while i < 6:\n",
    "    print(i)\n",
    "    i += 1\n",
    "else:\n",
    "    print(\"i is no longer less than 6\")"
   ]
  },
  {
   "cell_type": "code",
   "execution_count": 61,
   "id": "72c57ecc",
   "metadata": {},
   "outputs": [
    {
     "name": "stdout",
     "output_type": "stream",
     "text": [
      "1\n",
      "2\n",
      "3\n",
      "4\n",
      "5\n",
      "6\n",
      "7\n",
      "8\n",
      "9\n"
     ]
    }
   ],
   "source": [
    "for y in range(1,10):\n",
    "    print(y)"
   ]
  },
  {
   "cell_type": "code",
   "execution_count": 62,
   "id": "a9912150",
   "metadata": {},
   "outputs": [],
   "source": [
    "def my_function(arg1, arg2):\n",
    "    print(\"Function call with args\", arg1, arg2)"
   ]
  },
  {
   "cell_type": "code",
   "execution_count": 63,
   "id": "2ca0a20b",
   "metadata": {
    "scrolled": true
   },
   "outputs": [
    {
     "name": "stdout",
     "output_type": "stream",
     "text": [
      "The youngest child is Linus\n"
     ]
    }
   ],
   "source": [
    "def my_function(*kids):\n",
    "    print(\"The youngest child is \" + kids[2])\n",
    "    \n",
    "my_function(\"Emil\", \"Tobias\", \"Linus\")"
   ]
  },
  {
   "cell_type": "code",
   "execution_count": 64,
   "id": "237c857f",
   "metadata": {},
   "outputs": [],
   "source": [
    "num1 = 10\n",
    "num2 = 5\n",
    "\n",
    "def add(num1, num2):\n",
    "    result = num1 + num2\n",
    "    return result"
   ]
  },
  {
   "cell_type": "code",
   "execution_count": 65,
   "id": "6a8eeb41",
   "metadata": {},
   "outputs": [
    {
     "name": "stdout",
     "output_type": "stream",
     "text": [
      "('India', 'USA')\n"
     ]
    }
   ],
   "source": [
    "def get_countries():\n",
    "    return 'India', 'USA'\n",
    "print(get_countries())"
   ]
  },
  {
   "cell_type": "code",
   "execution_count": 66,
   "id": "f6e18d80",
   "metadata": {},
   "outputs": [
    {
     "name": "stdout",
     "output_type": "stream",
     "text": [
      "Hello mate\n"
     ]
    }
   ],
   "source": [
    "def two_str():\n",
    "    return 'Hello' + \" \" + 'mate'\n",
    "print(two_str())"
   ]
  },
  {
   "cell_type": "code",
   "execution_count": 81,
   "id": "f7caac6f",
   "metadata": {},
   "outputs": [
    {
     "ename": "SyntaxError",
     "evalue": "invalid syntax (1007243091.py, line 10)",
     "output_type": "error",
     "traceback": [
      "\u001b[0;36m  File \u001b[0;32m\"/var/folders/nr/j2gqspkx64g6ff2nqp8tvrcc0000gn/T/ipykernel_97348/1007243091.py\"\u001b[0;36m, line \u001b[0;32m10\u001b[0m\n\u001b[0;31m    else:\u001b[0m\n\u001b[0m    ^\u001b[0m\n\u001b[0;31mSyntaxError\u001b[0m\u001b[0;31m:\u001b[0m invalid syntax\n"
     ]
    }
   ],
   "source": [
    "def binarySearch(numbers, l, h, x):\n",
    "    if h>=l:\n",
    "        mid = l + (h-l)//2\n",
    "        if numbers[mid] == x:\n",
    "            return mid\n",
    "        elif numbers[mid] > x:\n",
    "            return binarySearch(numbers, l, mid-1, x)\n",
    "        else:\n",
    "            return binarySearch(numbers, mid+1, h, x)\n",
    "        else:\n",
    "            return -1\n",
    "\n",
    "numbers = [1,8,6,8,3]\n",
    "print(binarySearch(numbers, 0, len(numbers)-1, 6))"
   ]
  },
  {
   "cell_type": "code",
   "execution_count": 78,
   "id": "ac8e0e7c",
   "metadata": {},
   "outputs": [
    {
     "name": "stdout",
     "output_type": "stream",
     "text": [
      "55.0\n"
     ]
    }
   ],
   "source": [
    "def get_missing_number(l):\n",
    "    n = len(l) + 1\n",
    "    sum_list = sum(l)\n",
    "    total_sum = n*(n+1)/2\n",
    "    return total_sum - sum_list\n",
    "\n",
    "l = list(range(1, 101))\n",
    "l.remove(55)\n",
    "print(get_missing_number(l))"
   ]
  },
  {
   "cell_type": "code",
   "execution_count": null,
   "id": "9b977b92",
   "metadata": {},
   "outputs": [],
   "source": [
    "def missing_number(l):\n",
    "    first = 0\n",
    "    second = 0\n",
    "    for i in range(1,101):\n",
    "        first ^= i\n",
    "    for i in l:\n",
    "        second ^= i\n",
    "    return first ^ second"
   ]
  },
  {
   "cell_type": "code",
   "execution_count": null,
   "id": "88cf417d",
   "metadata": {},
   "outputs": [],
   "source": []
  }
 ],
 "metadata": {
  "kernelspec": {
   "display_name": "Python 3 (ipykernel)",
   "language": "python",
   "name": "python3"
  },
  "language_info": {
   "codemirror_mode": {
    "name": "ipython",
    "version": 3
   },
   "file_extension": ".py",
   "mimetype": "text/x-python",
   "name": "python",
   "nbconvert_exporter": "python",
   "pygments_lexer": "ipython3",
   "version": "3.9.7"
  }
 },
 "nbformat": 4,
 "nbformat_minor": 5
}
