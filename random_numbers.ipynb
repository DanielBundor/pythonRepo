{
 "cells": [
  {
   "cell_type": "code",
   "execution_count": 1,
   "id": "9635e8b7",
   "metadata": {},
   "outputs": [],
   "source": [
    "# Import the random module\n",
    "import random"
   ]
  },
  {
   "cell_type": "code",
   "execution_count": 2,
   "id": "a96bc505",
   "metadata": {},
   "outputs": [
    {
     "data": {
      "text/plain": [
       "-44"
      ]
     },
     "execution_count": 2,
     "metadata": {},
     "output_type": "execute_result"
    }
   ],
   "source": [
    "random.randint(-90, 90)"
   ]
  },
  {
   "cell_type": "code",
   "execution_count": 3,
   "id": "c2ecf064",
   "metadata": {},
   "outputs": [
    {
     "data": {
      "text/plain": [
       "0.0840243324118487"
      ]
     },
     "execution_count": 3,
     "metadata": {},
     "output_type": "execute_result"
    }
   ],
   "source": [
    "random.random()"
   ]
  },
  {
   "cell_type": "code",
   "execution_count": 4,
   "id": "62b66a5f",
   "metadata": {},
   "outputs": [
    {
     "data": {
      "text/plain": [
       "-24.813111418741045"
      ]
     },
     "execution_count": 4,
     "metadata": {},
     "output_type": "execute_result"
    }
   ],
   "source": [
    "random_number = random.randint(-90, 89) + random.random()\n",
    "random_number"
   ]
  },
  {
   "cell_type": "code",
   "execution_count": 5,
   "id": "965a9181",
   "metadata": {},
   "outputs": [],
   "source": [
    "x = 1\n",
    "latitudes = []\n",
    "while x < 11:\n",
    "    random_lat = random.randint(-90, 89) + random.random()\n",
    "    latitudes.append(random_lat)\n",
    "    x += 1"
   ]
  },
  {
   "cell_type": "code",
   "execution_count": 6,
   "id": "bea15801",
   "metadata": {},
   "outputs": [
    {
     "data": {
      "text/plain": [
       "81"
      ]
     },
     "execution_count": 6,
     "metadata": {},
     "output_type": "execute_result"
    }
   ],
   "source": [
    "random.randrange(-90, 90, step=1)"
   ]
  },
  {
   "cell_type": "code",
   "execution_count": 7,
   "id": "c2c69f0b",
   "metadata": {},
   "outputs": [
    {
     "data": {
      "text/plain": [
       "60"
      ]
     },
     "execution_count": 7,
     "metadata": {},
     "output_type": "execute_result"
    }
   ],
   "source": [
    "random.randrange(-90, 90, step=3)"
   ]
  },
  {
   "cell_type": "code",
   "execution_count": 8,
   "id": "dbf446df",
   "metadata": {},
   "outputs": [
    {
     "data": {
      "text/plain": [
       "-54.41187883616264"
      ]
     },
     "execution_count": 8,
     "metadata": {},
     "output_type": "execute_result"
    }
   ],
   "source": [
    "random.uniform(-90, 90)"
   ]
  },
  {
   "cell_type": "code",
   "execution_count": 9,
   "id": "7be93457",
   "metadata": {},
   "outputs": [],
   "source": [
    "# Import the numpy module\n",
    "import numpy as np"
   ]
  },
  {
   "cell_type": "code",
   "execution_count": 10,
   "id": "5e8ab8ea",
   "metadata": {},
   "outputs": [
    {
     "data": {
      "text/plain": [
       "-27.411456523042425"
      ]
     },
     "execution_count": 10,
     "metadata": {},
     "output_type": "execute_result"
    }
   ],
   "source": [
    "np.random.uniform(-90.000, 90.000)"
   ]
  },
  {
   "cell_type": "code",
   "execution_count": 18,
   "id": "c7bd2d25",
   "metadata": {},
   "outputs": [
    {
     "data": {
      "text/plain": [
       "array([-7.26646671e+01,  1.63271551e-02,  7.65385668e+01, -5.80754881e+01,\n",
       "       -4.02466554e+01,  4.05290358e+01, -9.79109395e+00,  6.50863384e+01,\n",
       "        5.99917313e+00,  5.77313907e+01, -5.28567837e+00,  7.14670568e+01,\n",
       "        1.19649039e+01,  1.15380431e+01, -1.06248075e+01, -8.41011458e+01,\n",
       "        8.13991679e+01, -4.32854389e+01,  4.29445963e+01, -7.19409589e+01,\n",
       "       -8.61265498e+01, -7.89736052e+00,  4.21379850e+01,  1.44307271e+01,\n",
       "       -8.16247044e+01,  6.51068267e+01,  4.67951496e+01,  5.20005334e+01,\n",
       "       -1.12666325e+01,  2.44637123e+01, -5.63450270e+01,  9.11280970e+00,\n",
       "       -5.57885633e+01,  7.86928272e+00,  6.36973991e+01, -7.62850354e+01,\n",
       "       -8.92463432e+00,  4.54510073e+01, -7.56032494e-01,  7.50311750e+01,\n",
       "        5.24333990e+01, -4.68795036e+01, -4.66761946e+00,  1.07810784e+01,\n",
       "        2.47188972e+01,  1.22359664e+00, -7.20406895e+01,  8.03113243e+01,\n",
       "       -3.86703531e+01,  2.59113183e+01])"
      ]
     },
     "execution_count": 18,
     "metadata": {},
     "output_type": "execute_result"
    }
   ],
   "source": [
    "np.random.uniform(-90.000, 90.000, size=50)"
   ]
  },
  {
   "cell_type": "code",
   "execution_count": 19,
   "id": "814716f7",
   "metadata": {},
   "outputs": [],
   "source": [
    "# Import timeit module\n",
    "import timeit"
   ]
  },
  {
   "cell_type": "code",
   "execution_count": 21,
   "id": "271d2498",
   "metadata": {},
   "outputs": [
    {
     "name": "stdout",
     "output_type": "stream",
     "text": [
      "17.7 µs ± 29.3 ns per loop (mean ± std. dev. of 7 runs, 100000 loops each)\n"
     ]
    }
   ],
   "source": [
    "%timeit np.random.uniform(-90.000, 90.000, size=1500)"
   ]
  },
  {
   "cell_type": "code",
   "execution_count": 22,
   "id": "7dde1068",
   "metadata": {},
   "outputs": [
    {
     "name": "stdout",
     "output_type": "stream",
     "text": [
      "1.46 ms ± 3.74 µs per loop (mean ± std. dev. of 7 runs, 1000 loops each)\n"
     ]
    }
   ],
   "source": [
    "def latitudes(size):\n",
    "    latitudes = []\n",
    "    x = 0\n",
    "    while x < (size):\n",
    "        random_lat = random.randint(-90, 90) + random.random()\n",
    "        latitudes.append(random_lat)\n",
    "        x += 1\n",
    "    return latitudes\n",
    "# Call the function with 1500.\n",
    "%timeit latitudes(1500)"
   ]
  },
  {
   "cell_type": "code",
   "execution_count": null,
   "id": "d8c59af5",
   "metadata": {},
   "outputs": [],
   "source": []
  }
 ],
 "metadata": {
  "kernelspec": {
   "display_name": "Python 3 (ipykernel)",
   "language": "python",
   "name": "python3"
  },
  "language_info": {
   "codemirror_mode": {
    "name": "ipython",
    "version": 3
   },
   "file_extension": ".py",
   "mimetype": "text/x-python",
   "name": "python",
   "nbconvert_exporter": "python",
   "pygments_lexer": "ipython3",
   "version": "3.9.7"
  }
 },
 "nbformat": 4,
 "nbformat_minor": 5
}
